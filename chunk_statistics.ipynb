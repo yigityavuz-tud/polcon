{
 "cells": [
  {
   "cell_type": "code",
   "execution_count": 10,
   "id": "4595254b",
   "metadata": {},
   "outputs": [
    {
     "name": "stdout",
     "output_type": "stream",
     "text": [
      "Total chunks: 90801\n",
      "\n",
      "Character counts:\n",
      "  Min: 2\n",
      "  Max: 63223\n",
      "  Average: 163.6\n",
      "\n",
      "Word counts:\n",
      "  Min: 1\n",
      "  Max: 17220\n",
      "  Average: 23.8\n"
     ]
    }
   ],
   "source": [
    "import json\n",
    "import os\n",
    "from pathlib import Path\n",
    "\n",
    "# Configuration\n",
    "chunks_dir = r\"C:\\Users\\yigit\\Desktop\\Enterprises\\polcon\\dumpster\\chunks\"\n",
    "\n",
    "# Collect statistics\n",
    "char_counts = []\n",
    "word_counts = []\n",
    "total_chunks = 0\n",
    "\n",
    "# Read all JSONL files\n",
    "for file_path in Path(chunks_dir).glob(\"*.jsonl\"):\n",
    "    with open(file_path, 'r', encoding='utf-8') as f:\n",
    "        for line in f:\n",
    "            chunk = json.loads(line)\n",
    "            char_counts.append(chunk['char_count'])\n",
    "            word_counts.append(chunk['word_count'])\n",
    "            total_chunks += 1\n",
    "\n",
    "# Calculate statistics\n",
    "if char_counts:\n",
    "    print(f\"Total chunks: {total_chunks}\")\n",
    "    print(f\"\\nCharacter counts:\")\n",
    "    print(f\"  Min: {min(char_counts)}\")\n",
    "    print(f\"  Max: {max(char_counts)}\")\n",
    "    print(f\"  Average: {sum(char_counts) / len(char_counts):.1f}\")\n",
    "    \n",
    "    print(f\"\\nWord counts:\")\n",
    "    print(f\"  Min: {min(word_counts)}\")\n",
    "    print(f\"  Max: {max(word_counts)}\")\n",
    "    print(f\"  Average: {sum(word_counts) / len(word_counts):.1f}\")\n",
    "else:\n",
    "    print(\"No chunks found!\")"
   ]
  },
  {
   "cell_type": "code",
   "execution_count": null,
   "id": "c64422de",
   "metadata": {},
   "outputs": [],
   "source": []
  }
 ],
 "metadata": {
  "kernelspec": {
   "display_name": ".venv",
   "language": "python",
   "name": "python3"
  },
  "language_info": {
   "codemirror_mode": {
    "name": "ipython",
    "version": 3
   },
   "file_extension": ".py",
   "mimetype": "text/x-python",
   "name": "python",
   "nbconvert_exporter": "python",
   "pygments_lexer": "ipython3",
   "version": "3.11.9"
  }
 },
 "nbformat": 4,
 "nbformat_minor": 5
}
